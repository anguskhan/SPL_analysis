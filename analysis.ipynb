{
 "cells": [
  {
   "cell_type": "code",
   "execution_count": null,
   "metadata": {},
   "outputs": [],
   "source": [
    "import pandas as pd\n",
    "import datetime as dt\n",
    "import matplotlib.pyplot as plt\n",
    "import seaborn as sns"
   ]
  },
  {
   "cell_type": "code",
   "execution_count": null,
   "metadata": {},
   "outputs": [],
   "source": [
    "pd.set_option(\"display.max_columns\", None)"
   ]
  },
  {
   "cell_type": "code",
   "execution_count": null,
   "metadata": {},
   "outputs": [],
   "source": [
    "df = pd.read_csv(\"scot_prem_stats.csv\", index_col=0)"
   ]
  },
  {
   "cell_type": "code",
   "execution_count": null,
   "metadata": {},
   "outputs": [],
   "source": [
    "print(list(df.columns))"
   ]
  },
  {
   "cell_type": "code",
   "execution_count": null,
   "metadata": {},
   "outputs": [],
   "source": [
    "df.describe()"
   ]
  },
  {
   "cell_type": "code",
   "execution_count": null,
   "metadata": {},
   "outputs": [],
   "source": [
    "df.info()"
   ]
  },
  {
   "cell_type": "code",
   "execution_count": null,
   "metadata": {},
   "outputs": [],
   "source": [
    "df[\"teamId\"].value_counts()"
   ]
  },
  {
   "cell_type": "code",
   "execution_count": null,
   "metadata": {},
   "outputs": [],
   "source": [
    "df.head()"
   ]
  },
  {
   "cell_type": "code",
   "execution_count": null,
   "metadata": {},
   "outputs": [],
   "source": [
    "#TODO\n",
    "\n",
    "#add team name identifiers tick\n",
    "#split into discrete matches\n",
    "# home and away, posession, passes, pass accuracy, total shots, shots on target, \n",
    "#cards, total subs, columns for each of starting 11?, corners, fouls, fk (area?), penalty, own Goal, date, time, \n"
   ]
  },
  {
   "cell_type": "code",
   "execution_count": null,
   "metadata": {},
   "outputs": [],
   "source": [
    "teams = {\n",
    "    306: \"Rangers\", \n",
    "    103: \"Celtic\", \n",
    "    318: \"Hearts\", \n",
    "    105: \"Aberdeen\", \n",
    "    320: \"Hibs\", \n",
    "    178: \"Kilmarnock\", \n",
    "    679: \"Ross County\",\n",
    "    179: \"Motherwell\", \n",
    "    281: \"Dundee Utd\", \n",
    "    106: \"St Mirren\",\n",
    "    787: \"Livingston\", \n",
    "    305: \"St Johnstone\",\n",
    "    \n",
    "}"
   ]
  },
  {
   "cell_type": "code",
   "execution_count": null,
   "metadata": {},
   "outputs": [],
   "source": [
    "df[\"team\"] = df[\"teamId\"].apply(lambda x: teams[x])"
   ]
  },
  {
   "cell_type": "code",
   "execution_count": null,
   "metadata": {},
   "outputs": [],
   "source": [
    "df[\"home_ft_score\"] = df[\"ftScore\"].apply(lambda x: x.split(\":\")[0])\n",
    "df[\"away_ft_score\"] = df[\"ftScore\"].apply(lambda x: x.split(\":\")[1])\n",
    "df[\"home_ht_score\"] = df[\"htScore\"].apply(lambda x: x.split(\":\")[0])\n",
    "df[\"away_ht_score\"] = df[\"htScore\"].apply(lambda x: x.split(\":\")[1])\n",
    "df[\"added_time\"] = df[\"maxMinute\"].apply(lambda x: x-90)\n",
    "df[\"startDate\"] = df[\"startDate\"].apply(lambda x: pd.to_datetime(x).date())\n",
    "df[\"startTime\"] = df[\"startTime\"].apply(lambda x: pd.to_datetime(x).time())\n"
   ]
  },
  {
   "cell_type": "code",
   "execution_count": null,
   "metadata": {},
   "outputs": [],
   "source": [
    "df[\"id\"] = df[\"id\"].apply(lambda x: str(int(x)))"
   ]
  },
  {
   "cell_type": "code",
   "execution_count": null,
   "metadata": {},
   "outputs": [],
   "source": [
    "df[\"matchId\"].nunique()"
   ]
  },
  {
   "cell_type": "code",
   "execution_count": null,
   "metadata": {},
   "outputs": [],
   "source": [
    "df2 = pd.DataFrame()\n",
    "df2[\"matchId\"] = df[\"matchId\"].unique().astype(str)"
   ]
  },
  {
   "cell_type": "code",
   "execution_count": null,
   "metadata": {},
   "outputs": [],
   "source": [
    "df[df[\"h_a\"] == \"h\"].groupby(\"matchId\").first()[\"team\"]"
   ]
  },
  {
   "cell_type": "code",
   "execution_count": null,
   "metadata": {},
   "outputs": [],
   "source": [
    "df2[\"home\"] = df[df[\"h_a\"] == \"h\"].groupby(\"matchId\").first()[\"team\"]\n",
    "df2[\"away\"] = df[df[\"h_a\"] == \"a\"].groupby(\"matchId\").first()[\"team\"]"
   ]
  },
  {
   "cell_type": "code",
   "execution_count": null,
   "metadata": {},
   "outputs": [],
   "source": [
    "df[\"matchId\"] = df[\"matchId\"].astype(str)"
   ]
  },
  {
   "cell_type": "code",
   "execution_count": null,
   "metadata": {},
   "outputs": [],
   "source": [
    "for idx, col in df2.iterrows():\n",
    "    df2.at[idx, \"home\"] = df[(df[\"matchId\"] == df2.loc[idx, \"matchId\"]) & (df[\"h_a\"] == \"h\")][\"team\"].iloc[0]"
   ]
  },
  {
   "cell_type": "code",
   "execution_count": null,
   "metadata": {},
   "outputs": [],
   "source": [
    "for idx, col in df2.iterrows():\n",
    "    df2.at[idx, \"away\"] = df[(df[\"matchId\"] == df2.loc[idx, \"matchId\"]) & (df[\"h_a\"] == \"a\")][\"team\"].iloc[0]"
   ]
  },
  {
   "cell_type": "code",
   "execution_count": null,
   "metadata": {},
   "outputs": [],
   "source": [
    "df[\"startTime\"]"
   ]
  },
  {
   "cell_type": "code",
   "execution_count": null,
   "metadata": {},
   "outputs": [],
   "source": [
    "for idx, col in df2.iterrows():\n",
    "    df2.at[idx, \"home_ft_score\"] = df[(df[\"matchId\"] == df2.loc[idx, \"matchId\"]) & (df[\"h_a\"] == \"h\")][\"home_ft_score\"].iloc[0]\n",
    "    df2.at[idx, \"away_ft_score\"] = df[(df[\"matchId\"] == df2.loc[idx, \"matchId\"]) & (df[\"h_a\"] == \"a\")][\"away_ft_score\"].iloc[0]\n",
    "    df2.at[idx, \"home_ht_score\"] = df[(df[\"matchId\"] == df2.loc[idx, \"matchId\"]) & (df[\"h_a\"] == \"h\")][\"home_ht_score\"].iloc[0]\n",
    "    df2.at[idx, \"away_ht_score\"] = df[(df[\"matchId\"] == df2.loc[idx, \"matchId\"]) & (df[\"h_a\"] == \"a\")][\"away_ht_score\"].iloc[0]\n",
    "    df2.at[idx, \"added_time\"] = df[(df[\"matchId\"] == df2.loc[idx, \"matchId\"]) & (df[\"h_a\"] == \"h\")][\"added_time\"].iloc[0]\n",
    "    df2.at[idx, \"startDate\"] = df[(df[\"matchId\"] == df2.loc[idx, \"matchId\"]) & (df[\"h_a\"] == \"h\")][\"startDate\"].iloc[0]\n",
    "    df2.at[idx, \"startTime\"] = df[(df[\"matchId\"] == df2.loc[idx, \"matchId\"]) & (df[\"h_a\"] == \"h\")][\"startTime\"].iloc[0]\n"
   ]
  },
  {
   "cell_type": "code",
   "execution_count": null,
   "metadata": {},
   "outputs": [],
   "source": [
    "df2[\"h_throwIns\"] = \"x\"\n",
    "df2[\"a_throwIns\"] = \"x\"\n",
    "df2[\"a_corners\"] = \"x\"\n",
    "df2[\"h_corners\"] = \"x\"\n",
    "df2[\"h_subs\"] = \"x\"\n",
    "df2[\"a_subs\"] = \"x\"\n",
    "df2[\"h_ycards\"] = \"x\"\n",
    "df2[\"a_ycards\"] = \"x\"\n",
    "df2[\"h_rcards\"] = \"x\"\n",
    "df2[\"a_rcards\"] = \"x\"\n",
    "df2[\"h_fouls\"] = \"x\"\n",
    "df2[\"a_fouls\"] = \"x\"\n",
    "df2[\"h_fks\"] = \"x\"\n",
    "df2[\"a_fks\"] = \"x\"\n",
    "df2[\"h_def_spasses\"] = \"x\"\n",
    "df2[\"a_def_spasses\"] = \"x\"\n",
    "df2[\"h_def_upasses\"] = \"x\"\n",
    "df2[\"a_def_upasses\"] = \"x\"\n",
    "df2[\"h_mid_spasses\"] = \"x\"\n",
    "df2[\"a_mid_spasses\"] = \"x\"\n",
    "df2[\"h_mid_upasses\"] = \"x\"\n",
    "df2[\"a_mid_upasses\"] = \"x\"\n",
    "df2[\"h_fin_spasses\"] = \"x\"\n",
    "df2[\"a_fin_spasses\"] = \"x\"\n",
    "df2[\"h_fin_upasses\"] = \"x\"\n",
    "df2[\"a_fin_upasses\"] = \"x\""
   ]
  },
  {
   "cell_type": "code",
   "execution_count": null,
   "metadata": {},
   "outputs": [],
   "source": [
    "fks = [x for x in df.columns if \"fr\" in x.lower()]"
   ]
  },
  {
   "cell_type": "code",
   "execution_count": null,
   "metadata": {},
   "outputs": [],
   "source": [
    "bad_pass = df[[x for x in df.columns if \"pass\" in x.lower() and \"ina\" in x.lower()]].drop(\"successfulFinalThirdPasses\", axis=1).columns"
   ]
  },
  {
   "cell_type": "code",
   "execution_count": null,
   "metadata": {},
   "outputs": [],
   "source": [
    "good_pass = df[[x for x in df.columns if \"pass\" in x.lower() and not \"ina\" in x.lower()]].columns"
   ]
  },
  {
   "cell_type": "code",
   "execution_count": null,
   "metadata": {},
   "outputs": [],
   "source": [
    "throws = df[[x for x in df.columns if \"throw\" in x.lower()]].columns"
   ]
  },
  {
   "cell_type": "code",
   "execution_count": null,
   "metadata": {},
   "outputs": [],
   "source": [
    "corner = df[[x for x in df.columns if \"cor\" in x.lower() and not \"sco\" in x.lower()]].drop(\"cornerAwarded\", axis=1).columns"
   ]
  },
  {
   "cell_type": "code",
   "execution_count": null,
   "metadata": {},
   "outputs": [],
   "source": [
    "df"
   ]
  },
  {
   "cell_type": "code",
   "execution_count": null,
   "metadata": {},
   "outputs": [],
   "source": [
    "df[[x for x in df.columns if \"shot\" in x.lower()]]"
   ]
  },
  {
   "cell_type": "code",
   "execution_count": null,
   "metadata": {},
   "outputs": [],
   "source": [
    "df[[x for x in df.columns if \"cross\" in x.lower()]]"
   ]
  },
  {
   "cell_type": "code",
   "execution_count": null,
   "metadata": {},
   "outputs": [],
   "source": [
    "for idx, col in df2.iterrows():\n",
    "    df2.at[idx, \"h_throwIns\"] = df[(df[\"matchId\"] == df2.loc[idx, \"matchId\"]) & (df[\"h_a\"] == \"h\")][throws].any(axis=1).sum()\n",
    "    df2.at[idx, \"a_throwIns\"] = df[(df[\"matchId\"] == df2.loc[idx, \"matchId\"]) & (df[\"h_a\"] == \"a\")][throws].any(axis=1).sum()\n",
    "    df2.at[idx, \"a_corners\"] = df[(df[\"matchId\"] == df2.loc[idx, \"matchId\"]) & (df[\"h_a\"] == \"a\")][corner].any(axis=1).sum()\n",
    "    df2.at[idx, \"h_corners\"] = df[(df[\"matchId\"] == df2.loc[idx, \"matchId\"]) & (df[\"h_a\"] == \"h\")][corner].any(axis=1).sum()\n",
    "    df2.at[idx, \"h_subs\"] = df[(df[\"subOn\"] == True) & (df[\"matchId\"] == df2.loc[idx, \"matchId\"]) & (df[\"h_a\"] == \"h\")].count().iloc[0]\n",
    "    df2.at[idx, \"a_subs\"] = df[(df[\"subOn\"] == True) & (df[\"matchId\"] == df2.loc[idx, \"matchId\"]) & (df[\"h_a\"] == \"a\")].count().iloc[0]\n",
    "    df2.at[idx, \"h_ycards\"] = df[(df[\"yellowCard\"] == True) & (df[\"matchId\"] == df2.loc[idx, \"matchId\"]) & (df[\"h_a\"] == \"h\")].count().iloc[0]\n",
    "    df2.at[idx, \"a_ycards\"] = df[(df[\"yellowCard\"] == True) & (df[\"matchId\"] == df2.loc[idx, \"matchId\"]) & (df[\"h_a\"] == \"a\")].count().iloc[0]\n",
    "    df2.at[idx, \"h_rcards\"] = df[(df[\"redCard\"] == True) & (df[\"matchId\"] == df2.loc[idx, \"matchId\"]) & (df[\"h_a\"] == \"h\")].count().iloc[0]\n",
    "    df2.at[idx, \"a_rcards\"] = df[(df[\"redCard\"] == True) & (df[\"matchId\"] == df2.loc[idx, \"matchId\"]) & (df[\"h_a\"] == \"a\")].count().iloc[0]\n",
    "    df2.at[idx, \"h_fouls\"] = df[(df[\"foulGiven\"] == True) & (df[\"matchId\"] == df2.loc[idx, \"matchId\"]) & (df[\"h_a\"] == \"a\")].count().iloc[0]\n",
    "    df2.at[idx, \"a_fouls\"] = df[(df[\"foulGiven\"] == True) & (df[\"matchId\"] == df2.loc[idx, \"matchId\"]) & (df[\"h_a\"] == \"h\")].count().iloc[0]\n",
    "    df2.at[idx, \"h_fks\"] = df[(df[\"matchId\"] == df2.loc[idx, \"matchId\"]) & (df[\"h_a\"] == \"h\")][fks].any(axis=1).sum()\n",
    "    df2.at[idx, \"a_fks\"] = df[(df[\"matchId\"] == df2.loc[idx, \"matchId\"]) & (df[\"h_a\"] == \"a\")][fks].any(axis=1).sum()\n",
    "    df2.at[idx, \"h_def_spasses\"] = df[(df[\"matchId\"] == df2.loc[idx, \"matchId\"]) & (df[\"h_a\"] == \"h\") & (df[\"defensiveThird\"] == True)][good_pass].any(axis=1).sum()\n",
    "    df2.at[idx, \"a_def_spasses\"] = df[(df[\"matchId\"] == df2.loc[idx, \"matchId\"]) & (df[\"h_a\"] == \"a\") & (df[\"defensiveThird\"] == True)][good_pass].any(axis=1).sum()\n",
    "    df2.at[idx, \"h_def_upasses\"] = df[(df[\"matchId\"] == df2.loc[idx, \"matchId\"]) & (df[\"h_a\"] == \"h\") & (df[\"defensiveThird\"] == True)][bad_pass].any(axis=1).sum()\n",
    "    df2.at[idx, \"a_def_upasses\"] = df[(df[\"matchId\"] == df2.loc[idx, \"matchId\"]) & (df[\"h_a\"] == \"a\") & (df[\"defensiveThird\"] == True)][bad_pass].any(axis=1).sum()\n",
    "    df2.at[idx, \"h_mid_spasses\"] = df[(df[\"matchId\"] == df2.loc[idx, \"matchId\"]) & (df[\"h_a\"] == \"h\") & (df[\"midThird\"] == True)][good_pass].any(axis=1).sum()\n",
    "    df2.at[idx, \"a_mid_spasses\"] = df[(df[\"matchId\"] == df2.loc[idx, \"matchId\"]) & (df[\"h_a\"] == \"a\") & (df[\"midThird\"] == True)][good_pass].any(axis=1).sum()\n",
    "    df2.at[idx, \"h_mid_upasses\"] = df[(df[\"matchId\"] == df2.loc[idx, \"matchId\"]) & (df[\"h_a\"] == \"h\") & (df[\"midThird\"] == True)][bad_pass].any(axis=1).sum()\n",
    "    df2.at[idx, \"a_mid_upasses\"] = df[(df[\"matchId\"] == df2.loc[idx, \"matchId\"]) & (df[\"h_a\"] == \"a\") & (df[\"midThird\"] == True)][bad_pass].any(axis=1).sum()\n",
    "    df2.at[idx, \"h_fin_spasses\"] = df[(df[\"matchId\"] == df2.loc[idx, \"matchId\"]) & (df[\"h_a\"] == \"h\") & (df[\"finalThird\"] == True)][good_pass].any(axis=1).sum()\n",
    "    df2.at[idx, \"a_fin_spasses\"] = df[(df[\"matchId\"] == df2.loc[idx, \"matchId\"]) & (df[\"h_a\"] == \"a\") & (df[\"finalThird\"] == True)][good_pass].any(axis=1).sum()\n",
    "    df2.at[idx, \"h_fin_upasses\"] = df[(df[\"matchId\"] == df2.loc[idx, \"matchId\"]) & (df[\"h_a\"] == \"h\") & (df[\"finalThird\"] == True)][bad_pass].any(axis=1).sum()\n",
    "    df2.at[idx, \"a_fin_upasses\"] = df[(df[\"matchId\"] == df2.loc[idx, \"matchId\"]) & (df[\"h_a\"] == \"a\") & (df[\"finalThird\"] == True)][bad_pass].any(axis=1).sum()\n",
    "    df2.at[idx, \"h_shotOnTarget\"] = df[(df[\"shotOnTarget\"] == True) & (df[\"matchId\"] == df2.loc[idx, \"matchId\"]) & (df[\"h_a\"] == \"h\")].count().iloc[0]\n",
    "    df2.at[idx, \"a_shotOnTarget\"] = df[(df[\"shotOnTarget\"] == True) & (df[\"matchId\"] == df2.loc[idx, \"matchId\"]) & (df[\"h_a\"] == \"a\")].count().iloc[0]\n",
    "    df2.at[idx, \"h_shotOffTarget\"] = df[(df[\"shotOffTarget\"] == True) & (df[\"matchId\"] == df2.loc[idx, \"matchId\"]) & (df[\"h_a\"] == \"h\")].count().iloc[0]\n",
    "    df2.at[idx, \"a_shotOffTarget\"] = df[(df[\"shotOffTarget\"] == True) & (df[\"matchId\"] == df2.loc[idx, \"matchId\"]) & (df[\"h_a\"] == \"a\")].count().iloc[0]\n",
    "\n"
   ]
  },
  {
   "cell_type": "code",
   "execution_count": null,
   "metadata": {},
   "outputs": [],
   "source": [
    "def res_calc(x):\n",
    "    if x == 0:\n",
    "        return \"draw\"\n",
    "    elif x > 0:\n",
    "        return \"win\"\n",
    "    else:\n",
    "        return \"loss\""
   ]
  },
  {
   "cell_type": "code",
   "execution_count": null,
   "metadata": {},
   "outputs": [],
   "source": [
    "df2[\"home_ft_score\"] = df2[\"home_ft_score\"].apply(lambda x: int(x))\n",
    "df2[\"away_ft_score\"] = df2[\"away_ft_score\"].apply(lambda x: int(x))\n",
    "df2[\"goal_diff\"] = df2[\"home_ft_score\"] - df2[\"away_ft_score\"]\n",
    "df2[\"h_result\"] = df2[\"goal_diff\"].apply(lambda x: res_calc(x))"
   ]
  },
  {
   "cell_type": "code",
   "execution_count": null,
   "metadata": {},
   "outputs": [],
   "source": [
    "df2 #need to come back to this as a lot of the h and a values are the same"
   ]
  },
  {
   "cell_type": "code",
   "execution_count": null,
   "metadata": {},
   "outputs": [],
   "source": [
    "df2[\"home_rest\"] = \"x\""
   ]
  },
  {
   "cell_type": "code",
   "execution_count": null,
   "metadata": {},
   "outputs": [],
   "source": [
    "for idx, col in df2[::-1].iterrows():\n",
    "    date_1 = df2.loc[idx, \"startDate\"]\n",
    "    for idx2, col2 in df2[idx-1::-1].iterrows():\n",
    "        home = df2.loc[idx, \"home\"]\n",
    "        if home == df2.loc[idx2, \"home\"] or home == df2.loc[idx2, \"away\"]:\n",
    "            date_2 = df2.loc[idx2, \"startDate\"]\n",
    "            break\n",
    "    df2.loc[idx, \"home_rest\"] = date_1 - date_2"
   ]
  },
  {
   "cell_type": "code",
   "execution_count": null,
   "metadata": {},
   "outputs": [],
   "source": [
    "def rest_days(x):\n",
    "    if x < dt.timedelta(days=3):\n",
    "        return dt.timedelta(days=7)\n",
    "    elif x > dt.timedelta(days=10):\n",
    "        return dt.timedelta(days=4)\n",
    "    else:\n",
    "        return x"
   ]
  },
  {
   "cell_type": "code",
   "execution_count": null,
   "metadata": {},
   "outputs": [],
   "source": [
    "df2[\"home_rest\"] = df2[\"home_rest\"].apply(lambda x: rest_days(x)) #some simple imputation on rest days - I will round figures below 3 days to 3 and above 7 to 7"
   ]
  },
  {
   "cell_type": "code",
   "execution_count": null,
   "metadata": {},
   "outputs": [],
   "source": [
    "df2.info()"
   ]
  },
  {
   "cell_type": "code",
   "execution_count": null,
   "metadata": {},
   "outputs": [],
   "source": [
    "l_table = pd.DataFrame()\n",
    "l_table[\"teams\"] = df2[\"home\"].unique()\n",
    "l_table[\"points\"] = 0\n",
    "l_table.set_index(\"teams\", inplace=True)"
   ]
  },
  {
   "cell_type": "code",
   "execution_count": null,
   "metadata": {},
   "outputs": [],
   "source": [
    "for idx, col in df2.iterrows():\n",
    "    result = df2.loc[idx, \"h_result\"]\n",
    "    home_team = df2.loc[idx, \"home\"]\n",
    "    away_team = df2.loc[idx, \"away\"]\n",
    "    if result == \"win\":\n",
    "        l_table.at[home_team, \"points\"] += 3\n",
    "    elif result == \"draw\":\n",
    "        l_table.at[home_team, \"points\"] += 1\n",
    "        l_table.at[away_team, \"points\"] += 1\n",
    "    else:\n",
    "        l_table.at[away_team, \"points\"] += 3\n",
    "        "
   ]
  },
  {
   "cell_type": "code",
   "execution_count": null,
   "metadata": {},
   "outputs": [],
   "source": [
    "l_table.sort_values(by=\"points\", ascending = False)"
   ]
  },
  {
   "cell_type": "code",
   "execution_count": null,
   "metadata": {},
   "outputs": [],
   "source": [
    "df2[:][df2[\"home\"] == \"Rangers\"].iloc[-1]"
   ]
  },
  {
   "attachments": {},
   "cell_type": "markdown",
   "metadata": {},
   "source": [
    "EDA"
   ]
  },
  {
   "cell_type": "code",
   "execution_count": null,
   "metadata": {},
   "outputs": [],
   "source": [
    "for col in df2.columns:\n",
    "    try:\n",
    "        df2[col] = df2[col].astype(int)\n",
    "    except (ValueError, TypeError):\n",
    "        continue"
   ]
  },
  {
   "cell_type": "code",
   "execution_count": null,
   "metadata": {},
   "outputs": [],
   "source": [
    "plt.figure(figsize=(15,15))\n",
    "fig = sns.clustermap(df2.corr())\n"
   ]
  },
  {
   "attachments": {},
   "cell_type": "markdown",
   "metadata": {},
   "source": [
    "Model"
   ]
  },
  {
   "cell_type": "code",
   "execution_count": null,
   "metadata": {},
   "outputs": [],
   "source": [
    "df2 = df2.drop([\"home_ft_score\", \"away_ft_score\", \"home_ht_score\", \t\"away_ht_score\", \"matchId\", \"goal_diff\"], axis=1)"
   ]
  },
  {
   "cell_type": "code",
   "execution_count": null,
   "metadata": {},
   "outputs": [],
   "source": [
    "from sklearn.model_selection import train_test_split"
   ]
  },
  {
   "cell_type": "code",
   "execution_count": null,
   "metadata": {},
   "outputs": [],
   "source": [
    "df2[\"startDate\"] = df2[\"startDate\"].apply(lambda x: pd.to_datetime(x))"
   ]
  },
  {
   "cell_type": "code",
   "execution_count": null,
   "metadata": {},
   "outputs": [],
   "source": [
    "for col in df2.select_dtypes(object).columns:\n",
    "    df2[col + \"coded\"] = df2[col].astype(\"category\").cat.codes"
   ]
  },
  {
   "cell_type": "code",
   "execution_count": null,
   "metadata": {},
   "outputs": [],
   "source": [
    "df2[\"home_rest\"] = df2[\"home_rest\"].astype(str).apply(lambda x: x.split(\" \")[0]).astype(int)"
   ]
  },
  {
   "cell_type": "code",
   "execution_count": null,
   "metadata": {},
   "outputs": [],
   "source": [
    "X = df2.drop([\"h_result\", \"home\", \"away\", \"startTime\", \"startDate\", \"h_resultcoded\"], axis=1)\n",
    "y = df2[\"h_resultcoded\"]"
   ]
  },
  {
   "cell_type": "code",
   "execution_count": null,
   "metadata": {},
   "outputs": [],
   "source": [
    "X_train, X_test, y_train, y_test = train_test_split(X, y, test_size=0.2, random_state=42, )"
   ]
  },
  {
   "cell_type": "code",
   "execution_count": null,
   "metadata": {},
   "outputs": [],
   "source": [
    "from sklearn.model_selection import cross_val_score\n",
    "from sklearn.model_selection import RepeatedStratifiedKFold\n",
    "from sklearn.feature_selection import f_classif\n",
    "from sklearn.feature_selection import SelectKBest\n",
    "from xgboost import XGBClassifier"
   ]
  },
  {
   "cell_type": "code",
   "execution_count": null,
   "metadata": {},
   "outputs": [],
   "source": [
    "fs = SelectKBest()\n",
    "\n",
    "fs.fit(f_classif(X, y), y)\n",
    "\n",
    "fs.get_support()\n",
    "\n"
   ]
  },
  {
   "cell_type": "code",
   "execution_count": null,
   "metadata": {},
   "outputs": [],
   "source": []
  },
  {
   "cell_type": "code",
   "execution_count": null,
   "metadata": {},
   "outputs": [],
   "source": [
    "import numpy as np"
   ]
  },
  {
   "cell_type": "code",
   "execution_count": null,
   "metadata": {},
   "outputs": [],
   "source": [
    "xgb = XGBClassifier()\n",
    "\n",
    "cv = RepeatedStratifiedKFold(n_splits=10, n_repeats=3, random_state=1)\n",
    "n_scores = cross_val_score(xgb, X_train, y_train, scoring='accuracy', cv=cv, n_jobs=-1)\n",
    "# report performance\n",
    "print('Accuracy: %.3f (%.3f)' % (np.mean(n_scores), np.std(n_scores)))\n",
    "\n"
   ]
  },
  {
   "cell_type": "code",
   "execution_count": null,
   "metadata": {},
   "outputs": [],
   "source": [
    "# get a list of models to evaluate\n",
    "def get_models():\n",
    "    models = dict()\n",
    "    trees = [10, 50, 100, 500, 1000, 5000]\n",
    "    for n in trees:\n",
    "        for i in range(1,11):\n",
    "            models[str(n)+ \" \"+str(i)] = XGBClassifier(n_estimators=n, max_depth=i)\n",
    "    return models\n",
    " \n",
    "# evaluate a give model using cross-validation\n",
    "def evaluate_model(model):\n",
    "    cv = RepeatedStratifiedKFold(n_splits=10, n_repeats=3, random_state=1)\n",
    "    scores = cross_val_score(model, X, y, scoring='accuracy', cv=cv, n_jobs=-1)\n",
    "    return scores\n",
    " \n",
    "\n",
    "models = get_models()\n",
    "# evaluate the models and store results\n",
    "results, names = list(), list()\n",
    "for name, model in models.items():\n",
    "    scores = evaluate_model(model)\n",
    "    results.append(scores)\n",
    "    names.append(name)\n",
    "    print('>%s %.3f (%.3f)' % (name, np.mean(scores), np.std(scores)))\n",
    "# plot model performance for comparison\n",
    "plt.boxplot(results, labels=names, showmeans=True)\n",
    "plt.show()\n",
    "\n",
    "# dp this again but use grid search - clearly I need to get better features"
   ]
  },
  {
   "cell_type": "code",
   "execution_count": null,
   "metadata": {},
   "outputs": [],
   "source": [
    "from sklearn.metrics import confusion_matrix, classification_report"
   ]
  },
  {
   "cell_type": "code",
   "execution_count": null,
   "metadata": {},
   "outputs": [],
   "source": [
    "print(confusion_matrix(y_test, predictions))"
   ]
  },
  {
   "cell_type": "code",
   "execution_count": null,
   "metadata": {},
   "outputs": [],
   "source": [
    "print(classification_report(y_test, predictions))"
   ]
  },
  {
   "cell_type": "code",
   "execution_count": null,
   "metadata": {},
   "outputs": [],
   "source": [
    "X_train.head(24)\n"
   ]
  },
  {
   "cell_type": "markdown",
   "metadata": {},
   "source": []
  }
 ],
 "metadata": {
  "kernelspec": {
   "display_name": ".venv",
   "language": "python",
   "name": "python3"
  },
  "language_info": {
   "codemirror_mode": {
    "name": "ipython",
    "version": 3
   },
   "file_extension": ".py",
   "mimetype": "text/x-python",
   "name": "python",
   "nbconvert_exporter": "python",
   "pygments_lexer": "ipython3",
   "version": "3.9.5"
  },
  "orig_nbformat": 4,
  "vscode": {
   "interpreter": {
    "hash": "31f5ad6349528458f9721bc9cabdf858c0def52c4a9272b80a749daa1d49100d"
   }
  }
 },
 "nbformat": 4,
 "nbformat_minor": 2
}
